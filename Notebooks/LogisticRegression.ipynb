{
 "cells": [
  {
   "cell_type": "markdown",
   "id": "f22cc278-df47-44c5-a7e9-bff8db32d343",
   "metadata": {},
   "source": [
    "<h1><b>Heart Disease Prediction Using Different Machine Learning Models and Comparison</b></h1>"
   ]
  },
  {
   "cell_type": "markdown",
   "id": "2d34ca1f-fae0-46d8-94f8-5b730ece3330",
   "metadata": {},
   "source": [
    "<h2>Logistic Regression</h2>"
   ]
  },
  {
   "cell_type": "markdown",
   "id": "916d41e6-5b12-4304-8716-cb56edfaa604",
   "metadata": {},
   "source": [
    "<h3>Libraries</h3>"
   ]
  },
  {
   "cell_type": "code",
   "execution_count": 64,
   "id": "5738ae1f-1596-45f1-b712-2b6913d86c67",
   "metadata": {},
   "outputs": [],
   "source": [
    "#import libraries \n",
    "import pandas as pd\n",
    "import numpy as np\n",
    "import matplotlib.pyplot as plt\n",
    "import seaborn as sns\n",
    "import warnings\n",
    "warnings.filterwarnings('ignore')\n",
    "\n",
    "from sklearn.model_selection import train_test_split\n",
    "from sklearn.linear_model import LogisticRegression\n",
    "from sklearn.preprocessing import StandardScaler\n",
    "from sklearn.metrics import classification_report, confusion_matrix, roc_curve, auc\n",
    "from sklearn.metrics import precision_score, recall_score, accuracy_score, f1_score, log_loss"
   ]
  },
  {
   "cell_type": "markdown",
   "id": "7866c7ee-883c-4e67-a116-92699794c444",
   "metadata": {},
   "source": [
    "<h3>Load Data</h3>"
   ]
  },
  {
   "cell_type": "code",
   "execution_count": 40,
   "id": "1e696277-c934-492a-bfd7-ca8cf69b7ddd",
   "metadata": {},
   "outputs": [],
   "source": [
    "# Load the dataset from excel sheet for processing\n",
    "data_path = \"heart_2020_cleaned.csv\"\n",
    "dataset = pd.read_csv(data_path)"
   ]
  },
  {
   "cell_type": "markdown",
   "id": "1eb0cf7e-296d-45e6-876c-4834f4e81990",
   "metadata": {},
   "source": [
    "<h3>Data Visualization</h3>"
   ]
  },
  {
   "cell_type": "code",
   "execution_count": 41,
   "id": "4f08bd0c-78ad-41a9-807b-ca290a3bf2b5",
   "metadata": {},
   "outputs": [
    {
     "name": "stdout",
     "output_type": "stream",
     "text": [
      "Initial data shape: (319795, 18)\n"
     ]
    }
   ],
   "source": [
    "# Check number of rows & columns in the dataset\n",
    "print(\"Initial data shape:\", dataset.shape)"
   ]
  },
  {
   "cell_type": "code",
   "execution_count": 50,
   "id": "dfcb10a9-6166-4207-b211-ce389f5f38f2",
   "metadata": {},
   "outputs": [
    {
     "name": "stdout",
     "output_type": "stream",
     "text": [
      "First five rows of the dataset:\n",
      "   HeartDisease    BMI Smoking AlcoholDrinking Stroke  PhysicalHealth  \\\n",
      "0           No  16.60     Yes              No     No             3.0   \n",
      "1           No  20.34      No              No    Yes             0.0   \n",
      "2           No  26.58     Yes              No     No            20.0   \n",
      "3           No  24.21      No              No     No             0.0   \n",
      "4           No  23.71      No              No     No            28.0   \n",
      "\n",
      "   MentalHealth DiffWalking     Sex  AgeCategory   Race Diabetic  \\\n",
      "0          30.0          No  Female        55-59  White      Yes   \n",
      "1           0.0          No  Female  80 or older  White       No   \n",
      "2          30.0          No    Male        65-69  White      Yes   \n",
      "3           0.0          No  Female        75-79  White       No   \n",
      "4           0.0         Yes  Female        40-44  White       No   \n",
      "\n",
      "  PhysicalActivity  GenHealth  SleepTime Asthma KidneyDisease SkinCancer  \n",
      "0              Yes  Very good        5.0    Yes            No        Yes  \n",
      "1              Yes  Very good        7.0     No            No         No  \n",
      "2              Yes       Fair        8.0    Yes            No         No  \n",
      "3               No       Good        6.0     No            No        Yes  \n",
      "4              Yes  Very good        8.0     No            No         No  \n"
     ]
    }
   ],
   "source": [
    "# Check first five rows of dataset\n",
    "print(\"First five rows of the dataset:\\n\", dataset.head())"
   ]
  },
  {
   "cell_type": "code",
   "execution_count": 51,
   "id": "b1b2bbf8-1374-47fe-9510-ea74338d7ed2",
   "metadata": {},
   "outputs": [
    {
     "name": "stdout",
     "output_type": "stream",
     "text": [
      "<class 'pandas.core.frame.DataFrame'>\n",
      "RangeIndex: 319795 entries, 0 to 319794\n",
      "Data columns (total 18 columns):\n",
      " #   Column            Non-Null Count   Dtype  \n",
      "---  ------            --------------   -----  \n",
      " 0   HeartDisease      319795 non-null  object \n",
      " 1   BMI               319795 non-null  float64\n",
      " 2   Smoking           319795 non-null  object \n",
      " 3   AlcoholDrinking   319795 non-null  object \n",
      " 4   Stroke            319795 non-null  object \n",
      " 5   PhysicalHealth    319795 non-null  float64\n",
      " 6   MentalHealth      319795 non-null  float64\n",
      " 7   DiffWalking       319795 non-null  object \n",
      " 8   Sex               319795 non-null  object \n",
      " 9   AgeCategory       319795 non-null  object \n",
      " 10  Race              319795 non-null  object \n",
      " 11  Diabetic          319795 non-null  object \n",
      " 12  PhysicalActivity  319795 non-null  object \n",
      " 13  GenHealth         319795 non-null  object \n",
      " 14  SleepTime         319795 non-null  float64\n",
      " 15  Asthma            319795 non-null  object \n",
      " 16  KidneyDisease     319795 non-null  object \n",
      " 17  SkinCancer        319795 non-null  object \n",
      "dtypes: float64(4), object(14)\n",
      "memory usage: 43.9+ MB\n"
     ]
    }
   ],
   "source": [
    "#overview of the dataset\n",
    "dataset.info()"
   ]
  },
  {
   "cell_type": "markdown",
   "id": "5d3b5aa8-0ad3-473b-954b-7201666b5d3e",
   "metadata": {},
   "source": [
    "<h3>Data Preprocessing</h3>"
   ]
  },
  {
   "cell_type": "code",
   "execution_count": 52,
   "id": "42c466db-5324-4ac4-8499-44ece9007942",
   "metadata": {},
   "outputs": [],
   "source": [
    "# Removes duplicate rows from the dataset\n",
    "dataset.drop_duplicates(inplace=True)"
   ]
  },
  {
   "cell_type": "code",
   "execution_count": 54,
   "id": "b335c1f2-8eb6-4259-b1dd-1e53824087cc",
   "metadata": {},
   "outputs": [
    {
     "name": "stdout",
     "output_type": "stream",
     "text": [
      "Dataset shape after dropping duplicate Values: (301717, 18)\n"
     ]
    }
   ],
   "source": [
    "# Checking number of rows & columns after dropping duplicates\n",
    "print(\"Dataset shape after dropping duplicate Values:\", dataset.shape)"
   ]
  },
  {
   "cell_type": "code",
   "execution_count": 53,
   "id": "ff62797a-4d72-4687-8afc-baddee6d3a42",
   "metadata": {},
   "outputs": [
    {
     "name": "stdout",
     "output_type": "stream",
     "text": [
      "Missing Values in Each Column:\n",
      " HeartDisease        0\n",
      "BMI                 0\n",
      "Smoking             0\n",
      "AlcoholDrinking     0\n",
      "Stroke              0\n",
      "PhysicalHealth      0\n",
      "MentalHealth        0\n",
      "DiffWalking         0\n",
      "Sex                 0\n",
      "AgeCategory         0\n",
      "Race                0\n",
      "Diabetic            0\n",
      "PhysicalActivity    0\n",
      "GenHealth           0\n",
      "SleepTime           0\n",
      "Asthma              0\n",
      "KidneyDisease       0\n",
      "SkinCancer          0\n",
      "dtype: int64\n"
     ]
    }
   ],
   "source": [
    "# Calculates and prints the number of missing values in each column.\n",
    "missing_values = dataset.isnull().sum()\n",
    "print(\"Missing Values in Each Column:\\n\", missing_values)"
   ]
  },
  {
   "cell_type": "code",
   "execution_count": 55,
   "id": "54027252-98bf-4547-bcce-cc1c3ce4ef51",
   "metadata": {},
   "outputs": [],
   "source": [
    "# Preprocessing, Encoding categorical variables\n",
    "categorical_cols = dataset.select_dtypes(include=['object']).columns\n",
    "data_encoded = pd.get_dummies(dataset, columns=categorical_cols, drop_first=True)"
   ]
  },
  {
   "cell_type": "code",
   "execution_count": 56,
   "id": "82599833-361c-4327-9a74-1a2a91a62a2b",
   "metadata": {},
   "outputs": [
    {
     "name": "stdout",
     "output_type": "stream",
     "text": [
      "Encoded Dataframe First rows:\n",
      "      BMI  PhysicalHealth  MentalHealth  SleepTime  HeartDisease_Yes  \\\n",
      "0  16.60             3.0          30.0        5.0             False   \n",
      "1  20.34             0.0           0.0        7.0             False   \n",
      "2  26.58            20.0          30.0        8.0             False   \n",
      "3  24.21             0.0           0.0        6.0             False   \n",
      "4  23.71            28.0           0.0        8.0             False   \n",
      "\n",
      "   Smoking_Yes  AlcoholDrinking_Yes  Stroke_Yes  DiffWalking_Yes  Sex_Male  \\\n",
      "0         True                False       False            False     False   \n",
      "1        False                False        True            False     False   \n",
      "2         True                False       False            False      True   \n",
      "3        False                False       False            False     False   \n",
      "4        False                False       False             True     False   \n",
      "\n",
      "   ...  Diabetic_Yes  Diabetic_Yes (during pregnancy)  PhysicalActivity_Yes  \\\n",
      "0  ...          True                            False                  True   \n",
      "1  ...         False                            False                  True   \n",
      "2  ...          True                            False                  True   \n",
      "3  ...         False                            False                 False   \n",
      "4  ...         False                            False                  True   \n",
      "\n",
      "   GenHealth_Fair  GenHealth_Good  GenHealth_Poor  GenHealth_Very good  \\\n",
      "0           False           False           False                 True   \n",
      "1           False           False           False                 True   \n",
      "2            True           False           False                False   \n",
      "3           False            True           False                False   \n",
      "4           False           False           False                 True   \n",
      "\n",
      "   Asthma_Yes  KidneyDisease_Yes  SkinCancer_Yes  \n",
      "0        True              False            True  \n",
      "1       False              False           False  \n",
      "2        True              False           False  \n",
      "3       False              False            True  \n",
      "4       False              False           False  \n",
      "\n",
      "[5 rows x 38 columns]\n"
     ]
    }
   ],
   "source": [
    "# Display the first few rows of the new dataframe to verify encoding\n",
    "print(\"Encoded Dataframe First rows:\\n\", data_encoded.head())"
   ]
  },
  {
   "cell_type": "markdown",
   "id": "3e21a378-926d-45f2-a645-ec41302b1cda",
   "metadata": {},
   "source": [
    "<h3>Model Training</h3>"
   ]
  },
  {
   "cell_type": "code",
   "execution_count": 57,
   "id": "91ffd4fa-4629-4301-9381-cb9777017a23",
   "metadata": {},
   "outputs": [],
   "source": [
    "#  Splits the data into training and testing sets\n",
    "X = data_encoded.drop('HeartDisease_Yes', axis=1)  \n",
    "y = data_encoded['HeartDisease_Yes'] \n",
    "X_train, X_test, y_train, y_test = train_test_split(X, y, test_size=0.2, random_state=42)\n"
   ]
  },
  {
   "cell_type": "code",
   "execution_count": 58,
   "id": "48785996-a705-486b-8508-5bbb10caf539",
   "metadata": {},
   "outputs": [],
   "source": [
    "# Standardizes the features to have zero mean and unit variance\n",
    "scaler = StandardScaler()\n",
    "X_train_scaled = scaler.fit_transform(X_train)\n",
    "X_test_scaled = scaler.transform(X_test)\n"
   ]
  },
  {
   "cell_type": "code",
   "execution_count": 59,
   "id": "a1135329-da3c-444f-88c1-69e1a62cd982",
   "metadata": {},
   "outputs": [
    {
     "data": {
      "text/html": [
       "<style>#sk-container-id-3 {color: black;background-color: white;}#sk-container-id-3 pre{padding: 0;}#sk-container-id-3 div.sk-toggleable {background-color: white;}#sk-container-id-3 label.sk-toggleable__label {cursor: pointer;display: block;width: 100%;margin-bottom: 0;padding: 0.3em;box-sizing: border-box;text-align: center;}#sk-container-id-3 label.sk-toggleable__label-arrow:before {content: \"▸\";float: left;margin-right: 0.25em;color: #696969;}#sk-container-id-3 label.sk-toggleable__label-arrow:hover:before {color: black;}#sk-container-id-3 div.sk-estimator:hover label.sk-toggleable__label-arrow:before {color: black;}#sk-container-id-3 div.sk-toggleable__content {max-height: 0;max-width: 0;overflow: hidden;text-align: left;background-color: #f0f8ff;}#sk-container-id-3 div.sk-toggleable__content pre {margin: 0.2em;color: black;border-radius: 0.25em;background-color: #f0f8ff;}#sk-container-id-3 input.sk-toggleable__control:checked~div.sk-toggleable__content {max-height: 200px;max-width: 100%;overflow: auto;}#sk-container-id-3 input.sk-toggleable__control:checked~label.sk-toggleable__label-arrow:before {content: \"▾\";}#sk-container-id-3 div.sk-estimator input.sk-toggleable__control:checked~label.sk-toggleable__label {background-color: #d4ebff;}#sk-container-id-3 div.sk-label input.sk-toggleable__control:checked~label.sk-toggleable__label {background-color: #d4ebff;}#sk-container-id-3 input.sk-hidden--visually {border: 0;clip: rect(1px 1px 1px 1px);clip: rect(1px, 1px, 1px, 1px);height: 1px;margin: -1px;overflow: hidden;padding: 0;position: absolute;width: 1px;}#sk-container-id-3 div.sk-estimator {font-family: monospace;background-color: #f0f8ff;border: 1px dotted black;border-radius: 0.25em;box-sizing: border-box;margin-bottom: 0.5em;}#sk-container-id-3 div.sk-estimator:hover {background-color: #d4ebff;}#sk-container-id-3 div.sk-parallel-item::after {content: \"\";width: 100%;border-bottom: 1px solid gray;flex-grow: 1;}#sk-container-id-3 div.sk-label:hover label.sk-toggleable__label {background-color: #d4ebff;}#sk-container-id-3 div.sk-serial::before {content: \"\";position: absolute;border-left: 1px solid gray;box-sizing: border-box;top: 0;bottom: 0;left: 50%;z-index: 0;}#sk-container-id-3 div.sk-serial {display: flex;flex-direction: column;align-items: center;background-color: white;padding-right: 0.2em;padding-left: 0.2em;position: relative;}#sk-container-id-3 div.sk-item {position: relative;z-index: 1;}#sk-container-id-3 div.sk-parallel {display: flex;align-items: stretch;justify-content: center;background-color: white;position: relative;}#sk-container-id-3 div.sk-item::before, #sk-container-id-3 div.sk-parallel-item::before {content: \"\";position: absolute;border-left: 1px solid gray;box-sizing: border-box;top: 0;bottom: 0;left: 50%;z-index: -1;}#sk-container-id-3 div.sk-parallel-item {display: flex;flex-direction: column;z-index: 1;position: relative;background-color: white;}#sk-container-id-3 div.sk-parallel-item:first-child::after {align-self: flex-end;width: 50%;}#sk-container-id-3 div.sk-parallel-item:last-child::after {align-self: flex-start;width: 50%;}#sk-container-id-3 div.sk-parallel-item:only-child::after {width: 0;}#sk-container-id-3 div.sk-dashed-wrapped {border: 1px dashed gray;margin: 0 0.4em 0.5em 0.4em;box-sizing: border-box;padding-bottom: 0.4em;background-color: white;}#sk-container-id-3 div.sk-label label {font-family: monospace;font-weight: bold;display: inline-block;line-height: 1.2em;}#sk-container-id-3 div.sk-label-container {text-align: center;}#sk-container-id-3 div.sk-container {/* jupyter's `normalize.less` sets `[hidden] { display: none; }` but bootstrap.min.css set `[hidden] { display: none !important; }` so we also need the `!important` here to be able to override the default hidden behavior on the sphinx rendered scikit-learn.org. See: https://github.com/scikit-learn/scikit-learn/issues/21755 */display: inline-block !important;position: relative;}#sk-container-id-3 div.sk-text-repr-fallback {display: none;}</style><div id=\"sk-container-id-3\" class=\"sk-top-container\"><div class=\"sk-text-repr-fallback\"><pre>LogisticRegression(max_iter=1000)</pre><b>In a Jupyter environment, please rerun this cell to show the HTML representation or trust the notebook. <br />On GitHub, the HTML representation is unable to render, please try loading this page with nbviewer.org.</b></div><div class=\"sk-container\" hidden><div class=\"sk-item\"><div class=\"sk-estimator sk-toggleable\"><input class=\"sk-toggleable__control sk-hidden--visually\" id=\"sk-estimator-id-3\" type=\"checkbox\" checked><label for=\"sk-estimator-id-3\" class=\"sk-toggleable__label sk-toggleable__label-arrow\">LogisticRegression</label><div class=\"sk-toggleable__content\"><pre>LogisticRegression(max_iter=1000)</pre></div></div></div></div></div>"
      ],
      "text/plain": [
       "LogisticRegression(max_iter=1000)"
      ]
     },
     "execution_count": 59,
     "metadata": {},
     "output_type": "execute_result"
    }
   ],
   "source": [
    "# Initializes and trains the logistic regression model with a higher number of iterations\n",
    "logistic_model = LogisticRegression(max_iter=1000)\n",
    "logistic_model.fit(X_train_scaled, y_train)"
   ]
  },
  {
   "cell_type": "code",
   "execution_count": 60,
   "id": "3e20c287-8fd3-4942-9d70-a350b685319d",
   "metadata": {},
   "outputs": [],
   "source": [
    "# Predictions on the test set\n",
    "y_pred = logistic_model.predict(X_test_scaled)\n",
    "y_pred_proba = logistic_model.predict_proba(X_test_scaled)[:, 1]"
   ]
  },
  {
   "cell_type": "code",
   "execution_count": 34,
   "id": "3ca8c319-6527-4df8-8e9a-61240bd75fb7",
   "metadata": {},
   "outputs": [
    {
     "name": "stdout",
     "output_type": "stream",
     "text": [
      "Training Score: 0.9113902549166643\n",
      "Testing Score: 0.9107616333023996\n"
     ]
    }
   ],
   "source": [
    "# Training and Testing scores\n",
    "train_score = logistic_model.score(X_train_scaled, y_train)\n",
    "test_score = logistic_model.score(X_test_scaled, y_test)\n",
    "\n",
    "print(\"Training Score:\", train_score)\n",
    "print(\"Testing Score:\", test_score)"
   ]
  },
  {
   "cell_type": "markdown",
   "id": "67358c7c-9a55-4c88-84a1-79f3654a2c56",
   "metadata": {},
   "source": [
    "<h3>Performance Metrics</h3>"
   ]
  },
  {
   "cell_type": "code",
   "execution_count": 61,
   "id": "515eafb7-146f-4b29-bcc5-3fb3b73037e9",
   "metadata": {},
   "outputs": [
    {
     "name": "stdout",
     "output_type": "stream",
     "text": [
      "Precision Score: 0.5303454715219421\n",
      "Recall Score: 0.10422018348623853\n",
      "Accuracy Score: 0.9107616333023996\n",
      "F1 Score: 0.17420641005980678\n"
     ]
    }
   ],
   "source": [
    "# Calculates and prints various performance metrics\n",
    "print(\"Precision Score:\", precision_score(y_test, y_pred))\n",
    "print(\"Recall Score:\", recall_score(y_test, y_pred))\n",
    "print(\"Accuracy Score:\", accuracy_score(y_test, y_pred))\n",
    "print(\"F1 Score:\", f1_score(y_test, y_pred))"
   ]
  },
  {
   "cell_type": "code",
   "execution_count": 62,
   "id": "a916f7b3-8776-4695-8986-b154ed13a662",
   "metadata": {},
   "outputs": [
    {
     "name": "stdout",
     "output_type": "stream",
     "text": [
      "Log Loss: 0.24021010552570374\n"
     ]
    }
   ],
   "source": [
    "# Log Loss metrics\n",
    "log_loss_val = log_loss(y_test, y_pred_proba)\n",
    "print(\"Log Loss:\", log_loss_val)"
   ]
  },
  {
   "cell_type": "code",
   "execution_count": 63,
   "id": "108e0280-f5d9-4d79-a192-a8d6a423de1e",
   "metadata": {},
   "outputs": [
    {
     "name": "stdout",
     "output_type": "stream",
     "text": [
      "Classification Report:\n",
      "               precision    recall  f1-score   support\n",
      "\n",
      "       False       0.92      0.99      0.95     54894\n",
      "        True       0.53      0.10      0.17      5450\n",
      "\n",
      "    accuracy                           0.91     60344\n",
      "   macro avg       0.72      0.55      0.56     60344\n",
      "weighted avg       0.88      0.91      0.88     60344\n",
      "\n",
      "Confusion Matrix:\n",
      " [[54391   503]\n",
      " [ 4882   568]]\n"
     ]
    }
   ],
   "source": [
    "# Displays a detailed classification report and confusion matrix\n",
    "report = classification_report(y_test, y_pred)\n",
    "conf_matrix = confusion_matrix(y_test, y_pred)\n",
    "print(\"Classification Report:\\n\", report)\n",
    "print(\"Confusion Matrix:\\n\", conf_matrix)"
   ]
  },
  {
   "cell_type": "code",
   "execution_count": 37,
   "id": "ef31d007-aab0-4880-b100-aaa5870234d1",
   "metadata": {},
   "outputs": [
    {
     "data": {
      "image/png": "[encoded data removed]",
      "text/plain": [
       "<Figure size 800x600 with 2 Axes>"
      ]
     },
     "metadata": {},
     "output_type": "display_data"
    }
   ],
   "source": [
    "# Plotting the confusion matrix\n",
    "plt.figure(figsize=(8, 6))\n",
    "sns.heatmap(conf_matrix, annot=True, fmt=\"d\", cmap=\"Blues\", xticklabels=['No Heart Disease', 'Heart Disease'], yticklabels=['No Heart Disease', 'Heart Disease'])\n",
    "plt.xlabel('Predicted Labels')\n",
    "plt.ylabel('True Labels')\n",
    "plt.title('Confusion Matrix')\n",
    "plt.show()"
   ]
  },
  {
   "cell_type": "code",
   "execution_count": null,
   "id": "a0ce8de2-d2fc-40a9-b6d2-23b7b556f081",
   "metadata": {},
   "outputs": [],
   "source": []
  }
 ],
 "metadata": {
  "kernelspec": {
   "display_name": "Python 3 (ipykernel)",
   "language": "python",
   "name": "python3"
  },
  "language_info": {
   "codemirror_mode": {
    "name": "ipython",
    "version": 3
   },
   "file_extension": ".py",
   "mimetype": "text/x-python",
   "name": "python",
   "nbconvert_exporter": "python",
   "pygments_lexer": "ipython3",
   "version": "3.11.7"
  }
 },
 "nbformat": 4,
 "nbformat_minor": 5
}
